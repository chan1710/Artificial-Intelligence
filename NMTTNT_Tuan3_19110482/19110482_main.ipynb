{
 "cells": [
  {
   "cell_type": "markdown",
   "metadata": {},
   "source": [
    "# **Nhập môn Trí tuệ Nhân tạo**\n",
    "\n",
    "  * Bài thực hành tuần 3\n",
    "  * Sinh viên: Huỳnh Thị Bảo Trân\n",
    "  * MSSV: 19110482"
   ]
  },
  {
   "cell_type": "markdown",
   "metadata": {},
   "source": [
    "**Đề bài:**      \n",
    "1. Cài đặt thuật toán **Greedy – Best – First search** để tìm đường đi từ **Arad** tới **Hirsova** như hình với h(n) được xác định.      \n",
    "2. Cài đặt thuật toán **A*** để tìm đường đi ngắn nhất từ **Arad** tới **Hirsova** như hình với hàm h(n) được xác định như trong bài tập 1 và g(n) là khoảng cách giữa 2 thành phố.      "
   ]
  },
  {
   "cell_type": "markdown",
   "metadata": {},
   "source": [
    "**Các thư viện được sử dụng (nếu có)**"
   ]
  },
  {
   "cell_type": "code",
   "execution_count": 11,
   "metadata": {},
   "outputs": [],
   "source": [
    "from queue import PriorityQueue"
   ]
  },
  {
   "cell_type": "markdown",
   "metadata": {},
   "source": [
    "**Bài 1.** Cài đặt thuật toán **Greedy – Best – First search** để tìm đường đi từ **Arad** tới **Hirsova** như hình với h(n) được xác định.    "
   ]
  },
  {
   "cell_type": "markdown",
   "metadata": {},
   "source": [
    "**Ý tưởng:**       \n",
    "1. Greedy - Best - First search mở rộng nút gần đích nhất với hi vọng cách làm này sẽ dẫn đến lời giải một cách nhanh nhất.      \n",
    "2. Đánh giá chi phí của các nút chỉ dựa trên hàm heuristic: **f(n) = h(n)**      "
   ]
  },
  {
   "cell_type": "markdown",
   "metadata": {},
   "source": [
    "**Cách thực hiện:**"
   ]
  },
  {
   "cell_type": "markdown",
   "metadata": {},
   "source": [
    "1. Tạo graph"
   ]
  },
  {
   "cell_type": "code",
   "execution_count": 17,
   "metadata": {},
   "outputs": [],
   "source": [
    "GRAPH = {'Arad': [('Zerind', 374), ('Timisoara', 329), ('Sibiu', 253)],\n",
    "        'Zerind': [('Oradea', 380), ('Arad', 366)],\n",
    "        'Oradea': [('Sibiu',253)],\n",
    "        'Sibiu': [('Rimniciu Vilcea', 193), ('Fagaras', 176), ('Arad', 366)],\n",
    "        'Fagaras': [('Sibiu', 253), ('Bucharest', 20)],\n",
    "        'Rimniciu Vilcea': [('Pitesti', 100), ('Craiova', 160), ('Sibiu', 253)],\n",
    "        'Timisoara': [('Lugoj', 244), ('Arad', 366)],\n",
    "        'Lugoj': [('Mehadia', 241)],\n",
    "        'Mehadia': [('Lugoj', 244), ('Dorbeta', 242)],\n",
    "        'Dobreta': [('Mehadia', 241), ('Craiova', 160)],\n",
    "        'Pitesti': [('Craiova', 160), ('Bucharest', 20)],\n",
    "        'Craiova': [('Pitesti', 100), ('Dobreta', 242), ('Rimniciu Vilcea', 193)],\n",
    "        'Bucharest': [('Giurgiu', 77), ('Urziceni', 10), ('Fagaras', 176), ('Pitesti', 98)],\n",
    "        'Giurgiu': [('Bucharest', 20)],\n",
    "        'Urziceni': [('Vaslui', 199), ('Hirsova', 0), ('Bucharest', 20)],\n",
    "        'Vaslui': [('Lasi', 226), ('Urziceni', 80)],\n",
    "        'Lasi': [('Neamt', 234), ('Vaslui', 199)],\n",
    "        'Neamt': [('Lasi', 226)],\n",
    "        'Hirsova': [('Eforie', 161), ('Urziceni', 10)],\n",
    "        'Eforie': [('Hirsova', 0)]\n",
    "}"
   ]
  },
  {
   "cell_type": "markdown",
   "metadata": {},
   "source": [
    "2. Cài đặt hàm"
   ]
  },
  {
   "cell_type": "code",
   "execution_count": 18,
   "metadata": {},
   "outputs": [],
   "source": [
    "def GBFS(graph, start, end):\n",
    "    queue = [] \n",
    "    visited = []\n",
    "    if start not in visited:\n",
    "        print(start)\n",
    "        visited.append(start)\n",
    "    queue = queue + [x for x in graph[start] if x[0][0] not in visited]\n",
    "    queue.sort(key = lambda x:x[1])\n",
    "    if queue[0][0] == end:\n",
    "        print(queue[0][0])\n",
    "    else:\n",
    "        processing = queue[0]\n",
    "        queue.remove(processing)\n",
    "        GBFS(graph, processing[0], end)"
   ]
  },
  {
   "cell_type": "markdown",
   "metadata": {},
   "source": [
    "3. Kết quả thực hiện được"
   ]
  },
  {
   "cell_type": "code",
   "execution_count": 19,
   "metadata": {},
   "outputs": [
    {
     "name": "stdout",
     "output_type": "stream",
     "text": [
      "Arad\n",
      "Sibiu\n",
      "Fagaras\n",
      "Bucharest\n",
      "Urziceni\n",
      "Hirsova\n"
     ]
    }
   ],
   "source": [
    "GBFS(GRAPH, start = 'Arad', end = 'Hirsova')"
   ]
  },
  {
   "cell_type": "markdown",
   "metadata": {},
   "source": [
    "**Bài 2.** Cài đặt thuật toán **A*** để tìm đường đi ngắn nhất từ **Arad** tới **Hirsova** như hình với hàm h(n) được xác định như trong bài tập 1 và g(n) là khoảng cách giữa 2 thành phố.       "
   ]
  },
  {
   "cell_type": "markdown",
   "metadata": {},
   "source": [
    "**Ý tưởng:**      \n",
    "1. Thuật toán đánh giá 1 nút dựa trên chi phí đi từ nút gốc đến nút đó (g(n)) cộng với chi phí từ nút đó đến nút đích **(h(n)). f(n) = g(n) + h(n)**      \n",
    "2. Hàm h(n) được gọi là chấp nhận được nếu với mọi trạng thái n, h(n) ≤ độ dài đường đi ngắn nhất thực tế từ u tới trạng thái đích.      "
   ]
  },
  {
   "cell_type": "markdown",
   "metadata": {},
   "source": [
    "**Cách thực hiện:** Thuật giải A* sử dụng 2 tập hợp sau đây:      \n",
    "1. **OPEN:** tập chứa các trạng thái đã được sinh ra nhưng chưa được xét đến nên OPEN là 1 hàng đợi ưu tiên (priority queue) mà trong đó, phần tử có độ ưu tiên cao nhất là phần tử tốt nhất.      \n",
    "2. **CLOSE:** tập chứa các trạng thái đã được xét đến. Ta cần lưu trữ những trạng thái này trong bộ nhớ để đề phòng khi một trạng thái mới được tạo ra lại trùng với 1 trạng thái mà ta đã xét đến trước đó. Trong trường hợp không gian tìm kiếm có dạng cây thì không cần dùng tập này.      "
   ]
  },
  {
   "cell_type": "markdown",
   "metadata": {},
   "source": [
    "1. Tạo Graph"
   ]
  },
  {
   "cell_type": "code",
   "execution_count": 20,
   "metadata": {},
   "outputs": [],
   "source": [
    "GRAPH = {'Arad': {'Zerind': 75, 'Timisoara': 118, 'Sibiu': 140},\n",
    "        'Zerind': {'Oradea': 71, 'Arad': 75},\n",
    "        'Oradea': {'Sibiu', 151},\n",
    "        'Sibiu': {'Rimniciu Vilcea': 80, 'Fagaras': 99, 'Arad': 140},\n",
    "        'Fagaras': {'Sibiu': 99, 'Bucharest': 211},\n",
    "        'Rimniciu Vilcea': {'Pitesti': 97, 'Craiova': 146, 'Sibiu': 80},\n",
    "        'Timisoara': {'Lugoj': 111, 'Arad': 118},\n",
    "        'Lugoj': {'Mehadia': 70},\n",
    "        'Mehadia': {'Lugoj': 70, 'Dorbeta': 75},\n",
    "        'Dobreta': {'Mehadia': 75, 'Craiova': 120},\n",
    "        'Pitesti': {'Craiova': 138, 'Bucharest': 101},\n",
    "        'Craiova': {'Pitesti': 138, 'Dobreta': 120, 'Rimniciu Vilcea': 146},\n",
    "        'Bucharest': {'Giurgiu': 90, 'Urziceni': 85, 'Fagaras': 211, 'Pitesti': 101},\n",
    "        'Giurgiu': {'Bucharest': 90},\n",
    "        'Urziceni': {'Vaslui': 142, 'Hirsova': 98, 'Bucharest': 85},\n",
    "        'Vaslui': {'Lasi': 92, 'Urziceni': 142},\n",
    "        'Lasi': {'Neamt': 87, 'Vaslui': 92},\n",
    "        'Neamt': {'Lasi': 87},\n",
    "        'Hirsova': {'Eforie': 86, 'Urziceni': 98},\n",
    "        'Eforie': {'Hirsova': 86}\n",
    "}"
   ]
  },
  {
   "cell_type": "markdown",
   "metadata": {},
   "source": [
    "2. Cài đặt hàm"
   ]
  },
  {
   "cell_type": "code",
   "execution_count": 21,
   "metadata": {},
   "outputs": [],
   "source": [
    "def a_star(source, destination):\n",
    "        straight_line = {\n",
    "            'Arad': 366,\n",
    "            'Zerind': 374,\n",
    "            'Oradea': 380,\n",
    "            'Sibiu': 253,\n",
    "            'Fagaras': 176,\n",
    "            'Rimniciu Vilcea': 193,\n",
    "            'Timisoara': 329,\n",
    "            'Lugoj': 244,\n",
    "            'Mehadia': 241,\n",
    "            'Dobreta': 242,\n",
    "            'Pitesti': 100,\n",
    "            'Craiova': 160,\n",
    "            'Bucharest': 0,\n",
    "            'Giurgiu': 77,\n",
    "            'Urziceni': 80,\n",
    "            'Vaslui': 199,\n",
    "            'Lasi': 226,\n",
    "            'Neamt': 234,\n",
    "            'Hirsova': 151,\n",
    "            'Eforie': 161\n",
    "        }\n",
    "        p_q, visited = PriorityQueue(), {}\n",
    "        p_q.put((straight_line[source], 0, source, [source]))\n",
    "\n",
    "        visited[source] = straight_line[source]\n",
    "        while not p_q.empty():\n",
    "            (heuristic, cost, vertex, path) = p_q.get()\n",
    "            if vertex == destination:\n",
    "                return heuristic, cost, path\n",
    "\n",
    "            for next_node in GRAPH[vertex].keys():\n",
    "                current_cost = cost + GRAPH[vertex][next_node]\n",
    "                heuristic = current_cost + straight_line[next_node]\n",
    "                if not next_node in visited or visited[next_node] >= heuristic:\n",
    "                    visited[next_node] = heuristic\n",
    "                    p_q.put((heuristic, current_cost, next_node, path + [next_node]))"
   ]
  },
  {
   "cell_type": "markdown",
   "metadata": {},
   "source": [
    "3. Xuất kết quả"
   ]
  },
  {
   "cell_type": "code",
   "execution_count": 22,
   "metadata": {},
   "outputs": [
    {
     "name": "stdout",
     "output_type": "stream",
     "text": [
      "total min cost: 418\n",
      "Route:\n",
      "Arad -> Sibiu -> Rimniciu Vilcea -> Pitesti -> Bucharest\n"
     ]
    }
   ],
   "source": [
    "def main():\n",
    "    source = 'Arad'\n",
    "    end = 'Bucharest'\n",
    "    if source not in GRAPH or end not in GRAPH:\n",
    "        print('CITY DOES NOT EXIST.')\n",
    "    else:\n",
    "        heuristic, cost, optimal_path = a_star(source, end)\n",
    "        print('total min cost:', cost)\n",
    "        print('Route:')\n",
    "        print(' -> '.join(city for city in optimal_path))\n",
    "\n",
    "main()"
   ]
  }
 ],
 "metadata": {
  "interpreter": {
   "hash": "aef21b48fa890caef95ae0903509a9605440c2c530883862a3f271bce31c735a"
  },
  "kernelspec": {
   "display_name": "Python 3.8.8 64-bit ('base': conda)",
   "language": "python",
   "name": "python3"
  },
  "language_info": {
   "codemirror_mode": {
    "name": "ipython",
    "version": 3
   },
   "file_extension": ".py",
   "mimetype": "text/x-python",
   "name": "python",
   "nbconvert_exporter": "python",
   "pygments_lexer": "ipython3",
   "version": "3.8.8"
  },
  "orig_nbformat": 4
 },
 "nbformat": 4,
 "nbformat_minor": 2
}
