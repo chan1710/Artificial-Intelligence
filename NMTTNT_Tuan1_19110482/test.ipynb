{
 "cells": [
  {
   "cell_type": "code",
   "execution_count": 1,
   "metadata": {},
   "outputs": [
    {
     "name": "stdout",
     "output_type": "stream",
     "text": [
      "hekoooooooooooo\n"
     ]
    }
   ],
   "source": [
    "print('hekoooooooooooo')\n",
    "#go 1 cai gi do"
   ]
  },
  {
   "cell_type": "markdown",
   "metadata": {},
   "source": [
    "cung go 1 cai gi do"
   ]
  }
 ],
 "metadata": {
  "interpreter": {
   "hash": "402b4e81388c1f2f4be1b77d36dbc53e404d5887932a4c90bdf792384ac7317c"
  },
  "kernelspec": {
   "display_name": "Python 3.9.7 64-bit ('base': conda)",
   "language": "python",
   "name": "python3"
  },
  "language_info": {
   "codemirror_mode": {
    "name": "ipython",
    "version": 3
   },
   "file_extension": ".py",
   "mimetype": "text/x-python",
   "name": "python",
   "nbconvert_exporter": "python",
   "pygments_lexer": "ipython3",
   "version": "3.9.7"
  },
  "orig_nbformat": 4
 },
 "nbformat": 4,
 "nbformat_minor": 2
}
