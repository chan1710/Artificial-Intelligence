{
 "cells": [
  {
   "cell_type": "markdown",
   "metadata": {},
   "source": [
    "#**Nhập môn Trí tuệ Nhân tạo**\n",
    "\n",
    "  * Bài thực hành tuần 1   \n",
    "  * Sinh viên: Huỳnh Thị Bảo Trân   \n",
    "  * MSSV: 19110482"
   ]
  },
  {
   "cell_type": "markdown",
   "metadata": {},
   "source": [
    "**Đề bài**: Cho đồ thị hình vẽ, tìm đường đi ngắn nhất từ trường Đại học Khoa học Tự nhiên (V_1) đến sân bay Tân Sơn Nhất (V_18) với các thuật toán: BFS, DFS, UCS."
   ]
  },
  {
   "cell_type": "markdown",
   "metadata": {},
   "source": [
    "**1. Thư viện được sử dụng**"
   ]
  },
  {
   "cell_type": "code",
   "execution_count": 2,
   "metadata": {},
   "outputs": [],
   "source": [
    "from queue import Queue, PriorityQueue\n",
    "import numpy as np\n",
    "from collections import defaultdict"
   ]
  },
  {
   "cell_type": "markdown",
   "metadata": {},
   "source": [
    "**2. Đọc dữ liệu**     \n",
    "* Thực hiện đọc file bằng hàm open(‘địa chỉ file’, mode=”r”).    \n",
    "* Đọc dữ liệu theo từng dòng (không lấy các ký tự xuống dòng).     \n",
    "* Ghép các dòng thành list và đưa chúng thành ma trận kề."
   ]
  },
  {
   "cell_type": "code",
   "execution_count": 82,
   "metadata": {},
   "outputs": [
    {
     "name": "stdout",
     "output_type": "stream",
     "text": [
      "vertice 18\n",
      "start 0\n",
      "end 17\n"
     ]
    },
    {
     "data": {
      "text/plain": [
       "[[0, 1, 1, 1, 0, 0, 0, 0, 0, 0, 0, 0, 0, 0, 0, 0, 0, 0],\n",
       " [0, 0, 0, 0, 0, 0, 1, 0, 0, 0, 0, 0, 0, 0, 0, 0, 0, 0],\n",
       " [0, 0, 0, 0, 0, 1, 0, 1, 0, 0, 0, 0, 0, 0, 0, 0, 0, 0],\n",
       " [0, 0, 0, 0, 1, 0, 0, 0, 0, 0, 0, 0, 0, 0, 0, 0, 0, 0],\n",
       " [0, 0, 0, 0, 0, 0, 0, 0, 0, 0, 0, 0, 0, 1, 0, 0, 0, 0],\n",
       " [0, 0, 0, 0, 0, 0, 0, 0, 0, 0, 0, 1, 0, 0, 0, 0, 0, 0],\n",
       " [0, 0, 1, 0, 0, 0, 0, 0, 0, 0, 0, 0, 0, 0, 0, 0, 0, 0],\n",
       " [0, 0, 0, 0, 0, 0, 0, 0, 1, 1, 0, 0, 0, 0, 0, 0, 0, 0],\n",
       " [0, 0, 0, 0, 0, 0, 0, 0, 0, 0, 1, 0, 0, 0, 0, 0, 0, 0],\n",
       " [0, 0, 0, 0, 0, 0, 0, 0, 0, 0, 0, 0, 0, 0, 0, 0, 0, 0],\n",
       " [0, 0, 0, 0, 0, 0, 0, 0, 0, 1, 0, 0, 0, 0, 1, 0, 0, 0],\n",
       " [0, 0, 0, 0, 0, 0, 0, 0, 0, 0, 0, 0, 1, 0, 0, 0, 0, 0],\n",
       " [0, 0, 0, 0, 0, 0, 0, 0, 0, 0, 0, 0, 0, 1, 0, 0, 0, 0],\n",
       " [0, 0, 0, 0, 0, 0, 0, 0, 0, 0, 1, 0, 0, 0, 0, 0, 0, 0],\n",
       " [0, 0, 0, 0, 0, 0, 0, 0, 0, 0, 0, 0, 0, 0, 0, 1, 0, 0],\n",
       " [0, 0, 0, 0, 0, 0, 0, 0, 0, 0, 0, 0, 0, 0, 0, 0, 1, 0],\n",
       " [0, 0, 0, 0, 0, 0, 0, 0, 0, 0, 0, 0, 0, 0, 0, 0, 0, 1],\n",
       " [0, 0, 0, 0, 0, 0, 0, 0, 0, 0, 0, 0, 0, 0, 0, 0, 0, 0]]"
      ]
     },
     "execution_count": 82,
     "metadata": {},
     "output_type": "execute_result"
    }
   ],
   "source": [
    "# load du lieu cua BFS va DFS\n",
    "\n",
    "data1 = open(\"data_bfs_dfs.txt\", \"r\")\n",
    "vertice = int(data1.readline())\n",
    "start, end = [int(num) for num in data1.readline().split()]\n",
    "graph = [[int(num) for num in line.split()] for line in data1]\n",
    "print(\"vertice\", vertice)\n",
    "print(\"start\", start)\n",
    "print(\"end\", end)\n",
    "graph"
   ]
  },
  {
   "cell_type": "code",
   "execution_count": 81,
   "metadata": {},
   "outputs": [
    {
     "name": "stdout",
     "output_type": "stream",
     "text": [
      "vertice 18\n",
      "start 0\n",
      "end 17\n"
     ]
    },
    {
     "data": {
      "text/plain": [
       "[[0, 50, 350, 300, 0, 0, 0, 0, 0, 0, 0, 0, 0, 0, 0, 0, 0, 0],\n",
       " [0, 0, 0, 0, 0, 0, 600, 0, 0, 0, 0, 0, 0, 0, 0, 0, 0, 0],\n",
       " [0, 0, 0, 0, 0, 100, 0, 900, 0, 0, 0, 0, 0, 0, 0, 0, 0, 0],\n",
       " [0, 0, 0, 0, 1300, 0, 0, 0, 0, 0, 0, 0, 0, 0, 0, 0, 0, 0],\n",
       " [0, 0, 0, 0, 0, 0, 0, 0, 0, 0, 0, 0, 0, 1400, 0, 0, 0, 0],\n",
       " [0, 0, 0, 0, 0, 0, 0, 0, 0, 0, 0, 700, 0, 0, 0, 0, 0, 0],\n",
       " [0, 0, 800, 0, 0, 0, 0, 0, 0, 0, 0, 0, 0, 0, 0, 0, 0, 0],\n",
       " [0, 0, 0, 0, 0, 0, 0, 0, 790, 300, 0, 0, 0, 0, 0, 0, 0, 0],\n",
       " [0, 0, 0, 0, 0, 0, 0, 0, 0, 0, 1200, 0, 0, 0, 0, 0, 0, 0],\n",
       " [0, 0, 0, 0, 0, 0, 0, 0, 0, 0, 0, 0, 0, 0, 0, 0, 0, 0],\n",
       " [0, 0, 0, 0, 0, 0, 0, 0, 0, 800, 0, 0, 0, 0, 400, 0, 0, 0],\n",
       " [0, 0, 0, 0, 0, 0, 0, 0, 0, 0, 0, 0, 950, 0, 0, 0, 0, 0],\n",
       " [0, 0, 0, 0, 0, 0, 0, 0, 0, 0, 0, 0, 0, 600, 0, 0, 0, 0],\n",
       " [0, 0, 0, 0, 0, 0, 0, 0, 0, 0, 1300, 0, 0, 0, 0, 0, 0, 0],\n",
       " [0, 0, 0, 0, 0, 0, 0, 0, 0, 0, 0, 0, 0, 0, 0, 1300, 0, 0],\n",
       " [0, 0, 0, 0, 0, 0, 0, 0, 0, 0, 0, 0, 0, 0, 0, 0, 770, 0],\n",
       " [0, 0, 0, 0, 0, 0, 0, 0, 0, 0, 0, 0, 0, 0, 0, 0, 0, 1200],\n",
       " [0, 0, 0, 0, 0, 0, 0, 0, 0, 0, 0, 0, 0, 0, 0, 0, 0, 0]]"
      ]
     },
     "execution_count": 81,
     "metadata": {},
     "output_type": "execute_result"
    }
   ],
   "source": [
    "# load du lieu cua UCS\n",
    "\n",
    "data2 = open(\"data_ucs.txt\", \"r\")\n",
    "vertice = int(data2.readline())\n",
    "start, end = [int(num) for num in data2.readline().split()]\n",
    "cost = [[int(num) for num in line.split()] for line in data2]\n",
    "print(\"vertice\", vertice)\n",
    "print(\"start\", start)\n",
    "print(\"end\", end)\n",
    "cost"
   ]
  },
  {
   "cell_type": "markdown",
   "metadata": {},
   "source": [
    "**3. Xây dựng hàm Breadth First Search (BFS)**     "
   ]
  },
  {
   "cell_type": "markdown",
   "metadata": {},
   "source": [
    "**Ý tưởng:**      \n",
    "* Tại mỗi bước chọn trạng thái để phát triển là trạng thái được sinh ra trước các trạng thái chờ phát triển khác.     \n",
    "* Danh sách L được sử lý như hàng đợi (queue).      "
   ]
  },
  {
   "cell_type": "markdown",
   "metadata": {},
   "source": [
    "**Cách thực hiện:**     \n",
    "* Cho *frontier*, *list_father*, *explored* strack rỗng, truyền vào *frontier* dữ liệu ở vị trí *start=1*.      \n",
    "* Giả sử đúng, ta kiểm *frontier* nếu không có dữ kiệu thì ta xuất ra màn hình là “no way” và dừng lại.       \n",
    "* Sau đó loại vị trí đầu.      \n",
    "* Ta xét *node*, nếu *node* ở vị trí cuối thì thêm vị trí cuối vào *result[]*, gán *end_index=0* sau đó chạy vòng for.      \n",
    "* Nếu vị trí *end-1* tới *sons*, gán *end_index=i* sau đó dừng lại.     \n",
    "* Gán *find=father*, thêm *find+1* và *result*.     \n",
    "* Thêm *father+1* vào *result* [], gán *find=father*.     \n",
    "* Sao đó chạy ngược lại *result* và gán lại *result*, gán *result =[str(num) for num in result]*.     \n",
    "* Tạo tem[]. For  chạy I đến chiều dài của node.      \n",
    "* Thêm *i* vào *frontier* và thêm *temp* và *node* vào *list_father*.       "
   ]
  },
  {
   "cell_type": "code",
   "execution_count": 3,
   "metadata": {},
   "outputs": [],
   "source": [
    "# thuat toan BFS\n",
    "\n",
    "def BFS(graph, start, end):\n",
    "    frontier = [] #queue su dung list queue.put() ~ list.append(); queue.get() ~ list.pop(0)\n",
    "    list_father = []\n",
    "    explored= []\n",
    "    frontier.append(start)\n",
    "\n",
    "    while True:\n",
    "        if frontier==[]:\n",
    "            print(\"no way\")\n",
    "            return False,\n",
    "\n",
    "        current_node = frontier.pop()\n",
    "        explored.append(current_node)\n",
    "        \n",
    "        if current_node == end - 1:\n",
    "            result = []\n",
    "            result.append(end)\n",
    "            end_index = 0\n",
    "\n",
    "            for i in range(-1, -len(list_father)-1, -1):\n",
    "                sons, father = list_father[i]\n",
    "                if end -1 in sons:\n",
    "                    end_index = i\n",
    "                    break\n",
    "            find = father\n",
    "            result.append(find + 1)\n",
    "\n",
    "            for i in range(end_index - 1, -len(list_father)-1, -1):\n",
    "                sons, father = list_father[i]\n",
    "                if find in sons:\n",
    "                    result.append(father + 1)\n",
    "                    find = father\n",
    "            result = result[::-1]\n",
    "            result = [str(num) for num in result]\n",
    "            return True, '->'.join(result)\n",
    "        \n",
    "        temp = []\n",
    "        for i in range(len(graph[current_node])):\n",
    "            if graph[current_node][i] and i not in explored:\n",
    "                frontier.append(i)\n",
    "                temp.append(i)      \n",
    "\n",
    "        list_father.append((temp, current_node))"
   ]
  },
  {
   "cell_type": "markdown",
   "metadata": {},
   "source": [
    "**4. Xây dựng hàm Depth First Search (DFS)**       "
   ]
  },
  {
   "cell_type": "markdown",
   "metadata": {},
   "source": [
    "**Ý tưởng:**     \n",
    "* Tại mỗi bước trạng thái được chọn để phát triển là trạng thái được sinh ra sau cùng trong số các trạng thái chờ phát triển.      \n",
    "* Danh sách L được sử lý như ngăn xếp (stack).        "
   ]
  },
  {
   "cell_type": "markdown",
   "metadata": {},
   "source": [
    "**Cách thực hiện:**     \n",
    "* Khởi tạo hàm DFS với ma trận kề *(graph)*, vị trí đầu *(start)* và vị trí cuối *(end)*.      \n",
    "* Ta tạo *frontier* [], *explored* [] là các sack rỗng và gán vị trí đầu vào *frontier[]*.     \n",
    "* Giả sử đúng, nếu *frontier* rỗng thì ta sẽ xuất không có đường đi và kết thúc.     \n",
    "* Node là *frontier* đã lấy dữ liệu, xuất vị trí *node+1* ra và truyền giá trị vào *explored*.     \n",
    "* Nếu node ở vị trí cuối ta dừng lại, ngược lại tiếp tục chạy dòng for kiểm tra *explored*.       \n",
    "* Thực hiện lặp lại đến node của *graph* ở vị trí cuối.       "
   ]
  },
  {
   "cell_type": "code",
   "execution_count": 83,
   "metadata": {},
   "outputs": [],
   "source": [
    "# thuat toan DFS\n",
    "\n",
    "def DFS(graph, start, end):\n",
    "  frontier = [] #stack sử dụng list stack.put() ~ list.append(); stack.get() ~ list.pop()\n",
    "  frontier.append(start)\n",
    "  explored = []\n",
    "\n",
    "  while True:\n",
    "    if frontier == []:\n",
    "      print(\"NO WAY\")\n",
    "      return\n",
    "    current_node = frontier.pop()\n",
    "    print(\"V\" + str(current_node + 1))\n",
    "    explored.append(current_node) \n",
    "\n",
    "    if current_node == end:\n",
    "      return\n",
    "\n",
    "    for i in range(len(graph[current_node])):\n",
    "      if graph[current_node][i] == 1 and i not in explored:\n",
    "        frontier.append(i)\n",
    "        explored.append(i)"
   ]
  },
  {
   "cell_type": "markdown",
   "metadata": {},
   "source": [
    "**5. Xây dựng hàm UCS**     "
   ]
  },
  {
   "cell_type": "markdown",
   "metadata": {},
   "source": [
    "**Ý tưởng:** \n",
    "* Hàng đợi ưu tiên PQ là cấu trúc dữ liệu lưu trữ các phần tử cùng với độ ưu tiên của nó.      \n",
    "* Khi lấy phần tử ra khỏi hàng đợi sẽ căn cứ vào độ ưu tiên nhỏ nhất.      "
   ]
  },
  {
   "cell_type": "markdown",
   "metadata": {},
   "source": [
    "**Cách thực hiện:**\n",
    "* Khởi tạo chi phí tối thiểu tối đa, trạng thái mục tiêu kể và hàng đợi ưu tiên.      \n",
    "* Đặt vectơ câu trả lời thành giá trị lớn nhất.      \n",
    "* Chèn chỉ mục bắt đầu và bản đồ để lưu trữ.      \n",
    "* Lấy phần tử hàng đầu, giá trị ban đầu và kiểm tra xem phần tử có phải thuộc danh sách mục tiêu.     \n",
    "* Đặt các giả định kiểm tra các nút có truy cập hay không, có tiệm cận với nút hiện tại không...     \n",
    "* Giá trị được nhân với -1 để ưu tiên ít nhất là ở trên cùng và đánh dấu.     "
   ]
  },
  {
   "cell_type": "code",
   "execution_count": 84,
   "metadata": {},
   "outputs": [],
   "source": [
    "# thuat toan UCS\n",
    "\n",
    "def UCS(end, start):\n",
    "\tglobal graph, cost\n",
    "\tanswer = []\n",
    "\tqueue = []\n",
    "\n",
    "\tfor i in range(len(end)):\n",
    "\t\tanswer.append(10**8)\n",
    "\t\n",
    "\tqueue.append([0, start])\n",
    "\tvisited = {}\n",
    "\tcount = 0\n",
    "\n",
    "\twhile (len(queue) > 0):\t\n",
    "\t\tqueue = sorted(queue)\n",
    "\t\tp = queue[-1]\n",
    "\t\tdel queue[-1]\n",
    "\t\tp[0] *= -1\n",
    "\n",
    "\t\tif (p[1] in end):\n",
    "\t\t\tindex = end.index(p[1])\n",
    "\t\t\tif (answer[index] == 10**8):\n",
    "\t\t\t\tcount += 1\n",
    "\n",
    "\t\t\tif (answer[index] > p[0]):\n",
    "\t\t\t\tanswer[index] = p[0]\n",
    "\t\t\tdel queue[-1]\n",
    "\n",
    "\t\t\tqueue = sorted(queue)\n",
    "\t\t\tif (count == len(end)):\n",
    "\t\t\t\treturn answer\n",
    "\n",
    "\t\tif (p[1] not in visited):\n",
    "\t\t\tfor i in range(len(graph[p[1]])):\n",
    "\t\t\t\tqueue.append( [(p[0] + cost[(p[1], graph[p[1]][i])])* -1, graph[p[1]][i]])\n",
    "\n",
    "\t\tvisited[p[1]] = 1\n",
    "\n",
    "\treturn answer"
   ]
  },
  {
   "cell_type": "markdown",
   "metadata": {},
   "source": [
    "**6. Xuất kết quả**"
   ]
  },
  {
   "cell_type": "code",
   "execution_count": 85,
   "metadata": {},
   "outputs": [
    {
     "name": "stdout",
     "output_type": "stream",
     "text": [
      "Algorithm BFS: \n"
     ]
    },
    {
     "data": {
      "text/plain": [
       "(True, '1->4->5->14->11->15->16->17->18')"
      ]
     },
     "execution_count": 85,
     "metadata": {},
     "output_type": "execute_result"
    }
   ],
   "source": [
    "print(\"Algorithm BFS: \")\n",
    "BFS(graph, start, end+1)"
   ]
  },
  {
   "cell_type": "code",
   "execution_count": 86,
   "metadata": {},
   "outputs": [
    {
     "name": "stdout",
     "output_type": "stream",
     "text": [
      "Algorithm DFS: \n",
      "V1\n",
      "V4\n",
      "V5\n",
      "V14\n",
      "V11\n",
      "V15\n",
      "V16\n",
      "V17\n",
      "V18\n"
     ]
    }
   ],
   "source": [
    "print(\"Algorithm DFS: \")\n",
    "DFS(graph, start, end)"
   ]
  },
  {
   "cell_type": "code",
   "execution_count": null,
   "metadata": {},
   "outputs": [],
   "source": [
    "print(\"Algorithm UCS: \")\n",
    "UCS(cost, start)"
   ]
  }
 ],
 "metadata": {
  "interpreter": {
   "hash": "1e915f0a29dc84041eaeb02b7b1a21c440e37a87b61d44d5e84a515737dc82bc"
  },
  "kernelspec": {
   "display_name": "Python 3.8.8 64-bit ('base': conda)",
   "language": "python",
   "name": "python3"
  },
  "language_info": {
   "codemirror_mode": {
    "name": "ipython",
    "version": 3
   },
   "file_extension": ".py",
   "mimetype": "text/x-python",
   "name": "python",
   "nbconvert_exporter": "python",
   "pygments_lexer": "ipython3",
   "version": "3.8.8"
  },
  "orig_nbformat": 4
 },
 "nbformat": 4,
 "nbformat_minor": 2
}
